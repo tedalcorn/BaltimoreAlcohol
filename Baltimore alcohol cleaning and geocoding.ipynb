{
 "cells": [
  {
   "cell_type": "code",
   "execution_count": 10,
   "id": "2211853e-e1d5-4c9c-a38e-ddce36e47108",
   "metadata": {},
   "outputs": [
    {
     "name": "stdout",
     "output_type": "stream",
     "text": [
      "/Users/tedalcorn/Desktop/2024 07 The Trace - Baltimore Bar Bill/2024 07 05 Mapping\n"
     ]
    },
    {
     "name": "stderr",
     "output_type": "stream",
     "text": [
      "/Users/tedalcorn/.pyenv/versions/3.11.8/lib/python3.11/site-packages/IPython/core/magics/osm.py:417: UserWarning: This is now an optional IPython functionality, setting dhist requires you to install the `pickleshare` library.\n",
      "  self.shell.db['dhist'] = compress_dhist(dhist)[-100:]\n"
     ]
    }
   ],
   "source": [
    "cd /Users/tedalcorn/desktop/2024\\ 07\\ The\\ Trace\\ -\\ Baltimore\\ Bar\\ Bill/2024\\ 07\\ 05\\ Mapping"
   ]
  },
  {
   "cell_type": "code",
   "execution_count": 11,
   "id": "4ed539f3-7ee1-4b2f-b9c3-d2922a777bb3",
   "metadata": {},
   "outputs": [
    {
     "data": {
      "text/plain": [
       "'/Users/tedalcorn/Desktop/2024 07 The Trace - Baltimore Bar Bill/2024 07 05 Mapping'"
      ]
     },
     "execution_count": 11,
     "metadata": {},
     "output_type": "execute_result"
    }
   ],
   "source": [
    "pwd"
   ]
  },
  {
   "cell_type": "code",
   "execution_count": 7,
   "id": "4e2e149c-e204-4a16-97c0-a9e575b38d40",
   "metadata": {},
   "outputs": [],
   "source": [
    "import csv\n",
    "import requests\n",
    "import pandas as pd\n",
    "from geopy.geocoders import Nominatim\n",
    "from geopy.exc import GeocoderTimedOut, GeocoderServiceError\n",
    "import time\n",
    "import re"
   ]
  },
  {
   "cell_type": "code",
   "execution_count": 12,
   "id": "09ead788-3cca-4884-b778-c2f7cef65614",
   "metadata": {},
   "outputs": [
    {
     "name": "stdout",
     "output_type": "stream",
     "text": [
      "[{'\\ufeffBlock': '16-Dec', 'Street': '20TH STREET WEST', 'Address': '12-16 20TH STREET WEST', 'Zip': '21218', 'Trade Name': 'KONG POCHA', 'Corp Name': 'SOY BEAN, INC.', 'License': 'LB'}, {'\\ufeffBlock': '225-27', 'Street': '23RD STREET WEST', 'Address': '225-27 23RD STREET WEST', 'Zip': '21211', 'Trade Name': 'CLAVEL', 'Corp Name': 'HARLAN, INC', 'License': 'LB'}, {'\\ufeffBlock': '400', 'Street': '23RD STREET WEST', 'Address': '400 23RD STREET WEST', 'Zip': '21211', 'Trade Name': 'W.C. HARLAN', 'Corp Name': '400 W. 23RD STREET, INC.', 'License': 'LD'}]\n"
     ]
    }
   ],
   "source": [
    "with open('240520_Baltimore_master.csv', newline='') as fp:\n",
    "    reader = csv.DictReader(fp)\n",
    "    data = list(reader)\n",
    "\n",
    "# Display the first three items\n",
    "print(data[:3])"
   ]
  },
  {
   "cell_type": "code",
   "execution_count": 14,
   "id": "9f011517-8a12-4038-9df3-a7ec9c39bbd8",
   "metadata": {},
   "outputs": [
    {
     "name": "stdout",
     "output_type": "stream",
     "text": [
      "       ﻿Block               Street                      Address    Zip  \\\n",
      "0      16-Dec     20TH STREET WEST       12-16 20TH STREET WEST  21218   \n",
      "1      225-27     23RD STREET WEST      225-27 23RD STREET WEST  21211   \n",
      "2         400     23RD STREET WEST         400 23RD STREET WEST  21211   \n",
      "3         101     25TH STREET EAST         101 25TH STREET EAST  21218   \n",
      "4        1001     25TH STREET EAST        1001 25TH STREET EAST  21218   \n",
      "...       ...                  ...                          ...    ...   \n",
      "1168     6726    YOUNGSTOWN AVENUE       6726 YOUNGSTOWN AVENUE  21222   \n",
      "1169  201-207  REDWOOD STREET EAST  201-207 REDWOOD STREET EAST  21202   \n",
      "1170    4-Feb  PRESTON STREET EAST      2-4 PRESTON STREET EAST  21202   \n",
      "1171      720     ALICEANNA STREET         720 ALICEANNA STREET  21202   \n",
      "1172     1200    NORTH AVENUE WEST       1200 NORTH AVENUE WEST  21217   \n",
      "\n",
      "                       Trade Name                     Corp Name License  \n",
      "0                      KONG POCHA                SOY BEAN, INC.      LB  \n",
      "1                          CLAVEL                   HARLAN, INC      LB  \n",
      "2                     W.C. HARLAN      400 W. 23RD STREET, INC.      LD  \n",
      "3                  NEW TERRA CAFE           NEW TERRA CAFE, LLC      LB  \n",
      "4                  ORYE'S LIQUORS                BEST RVB, INC.      LA  \n",
      "...                           ...                           ...     ...  \n",
      "1168  SACRED HEART OF MARY CHURCH  MEN'S CLUB OF GRACELAND PARK      WC  \n",
      "1169               KECHY PIZZA CO                  KECHY 2, LLC      LB  \n",
      "1170                  DA' HANGOUT            GOLDEN GRILLZ, LLC      LB  \n",
      "1171        THE RUXTON STEAKHOUSE       STEAKHOUSE VENTURE, LLC      LB  \n",
      "1172          FLEURS d' AVE, INC.                 FLEURS d' AVE    LBD7  \n",
      "\n",
      "[1173 rows x 7 columns]\n",
      "                                            FullAddress\n",
      "0     12-16 20TH STREET WEST, Baltimore, MD, 21218, USA\n",
      "1     225-27 23RD STREET WEST, Baltimore, MD, 21211,...\n",
      "2       400 23RD STREET WEST, Baltimore, MD, 21211, USA\n",
      "3       101 25TH STREET EAST, Baltimore, MD, 21218, USA\n",
      "4      1001 25TH STREET EAST, Baltimore, MD, 21218, USA\n",
      "...                                                 ...\n",
      "1168  6726 YOUNGSTOWN AVENUE, Baltimore, MD, 21222, USA\n",
      "1169  201-207 REDWOOD STREET EAST, Baltimore, MD, 21...\n",
      "1170  2-4 PRESTON STREET EAST, Baltimore, MD, 21202,...\n",
      "1171    720 ALICEANNA STREET, Baltimore, MD, 21202, USA\n",
      "1172  1200 NORTH AVENUE WEST, Baltimore, MD, 21217, USA\n",
      "\n",
      "[1173 rows x 1 columns]\n"
     ]
    }
   ],
   "source": [
    "# Convert to DataFrame\n",
    "df = pd.DataFrame(data)\n",
    "\n",
    "# Display the DataFrame\n",
    "print(df)\n",
    "\n",
    "# Create full address\n",
    "df['FullAddress'] = df['Address'] + ', Baltimore, MD, ' + df['Zip'] + ', USA'\n",
    "\n",
    "# Display the DataFrame with the FullAddress column\n",
    "print(df[['FullAddress']])"
   ]
  },
  {
   "cell_type": "code",
   "execution_count": 15,
   "id": "2a4b4d94-46c7-4346-b6e0-700d0d180db9",
   "metadata": {},
   "outputs": [
    {
     "data": {
      "text/plain": [
       "1173"
      ]
     },
     "execution_count": 15,
     "metadata": {},
     "output_type": "execute_result"
    }
   ],
   "source": [
    "len(df)"
   ]
  },
  {
   "cell_type": "code",
   "execution_count": 6,
   "id": "4b96f6d5-5041-4161-825c-efc453f0639b",
   "metadata": {},
   "outputs": [],
   "source": [
    "# Function to move directional indicators\n",
    "def move_direction_to_start(address):\n",
    "    # Pattern to match a directional indicator at the end of the street name\n",
    "    pattern = re.compile(r'\\b(North|South|East|West)\\b', flags=re.IGNORECASE)\n",
    "    \n",
    "    # Check if there's a match for a directional indicator at the end\n",
    "    match = pattern.search(address)\n",
    "    if match:\n",
    "        direction = match.group(0)\n",
    "        # Remove directional indicator from the end\n",
    "        address = pattern.sub('', address).strip()\n",
    "        # Split address into parts at the first space\n",
    "        parts = address.split(' ', 1)\n",
    "        if len(parts) == 2:\n",
    "            # Reconstruct address with direction after the first part (street number)\n",
    "            address = f\"{parts[0]} {direction} {parts[1]}\"\n",
    "        else:\n",
    "            address = f\"{address} {direction}\"\n",
    "    \n",
    "    return address\n",
    "\n",
    "# Function to remove second number in hyphenated address\n",
    "def remove_second_number(address):\n",
    "    return re.sub(r'(\\d+)-\\d+', r'\\1', address, flags=re.IGNORECASE)\n",
    "\n",
    "# Function to remove suite or unit information\n",
    "def remove_suite_or_unit(address):\n",
    "    return re.sub(r'\\s+(Suite|Unit)\\s+\\d+', '', address, flags=re.IGNORECASE)\n",
    "\n",
    "# Function to clean addresses\n",
    "def clean_address(address):\n",
    "    address = move_direction_to_start(address)\n",
    "    address = remove_second_number(address)\n",
    "    address = remove_suite_or_unit(address)\n",
    "    return address"
   ]
  },
  {
   "cell_type": "code",
   "execution_count": 7,
   "id": "fede3708-9cb6-483f-a187-4e193a414b67",
   "metadata": {},
   "outputs": [
    {
     "name": "stdout",
     "output_type": "stream",
     "text": [
      "       ﻿Block               Street                      Address    Zip  \\\n",
      "0      16-Dec     20TH STREET WEST       12-16 20TH STREET WEST  21218   \n",
      "1      225-27     23RD STREET WEST      225-27 23RD STREET WEST  21211   \n",
      "2         400     23RD STREET WEST         400 23RD STREET WEST  21211   \n",
      "3         101     25TH STREET EAST         101 25TH STREET EAST  21218   \n",
      "4        1001     25TH STREET EAST        1001 25TH STREET EAST  21218   \n",
      "...       ...                  ...                          ...    ...   \n",
      "1168     6726    YOUNGSTOWN AVENUE       6726 YOUNGSTOWN AVENUE  21222   \n",
      "1169  201-207  REDWOOD STREET EAST  201-207 REDWOOD STREET EAST  21202   \n",
      "1170    4-Feb  PRESTON STREET EAST      2-4 PRESTON STREET EAST  21202   \n",
      "1171      720     ALICEANNA STREET         720 ALICEANNA STREET  21202   \n",
      "1172     1200    NORTH AVENUE WEST       1200 NORTH AVENUE WEST  21217   \n",
      "\n",
      "                       Trade Name                     Corp Name License  \\\n",
      "0                      KONG POCHA                SOY BEAN, INC.      LB   \n",
      "1                          CLAVEL                   HARLAN, INC      LB   \n",
      "2                     W.C. HARLAN      400 W. 23RD STREET, INC.      LD   \n",
      "3                  NEW TERRA CAFE           NEW TERRA CAFE, LLC      LB   \n",
      "4                  ORYE'S LIQUORS                BEST RVB, INC.      LA   \n",
      "...                           ...                           ...     ...   \n",
      "1168  SACRED HEART OF MARY CHURCH  MEN'S CLUB OF GRACELAND PARK      WC   \n",
      "1169               KECHY PIZZA CO                  KECHY 2, LLC      LB   \n",
      "1170                  DA' HANGOUT            GOLDEN GRILLZ, LLC      LB   \n",
      "1171        THE RUXTON STEAKHOUSE       STEAKHOUSE VENTURE, LLC      LB   \n",
      "1172          FLEURS d' AVE, INC.                 FLEURS d' AVE    LBD7   \n",
      "\n",
      "                                            FullAddress  \\\n",
      "0     12-16 20TH STREET WEST, Baltimore, MD, 21218, USA   \n",
      "1     225-27 23RD STREET WEST, Baltimore, MD, 21211,...   \n",
      "2       400 23RD STREET WEST, Baltimore, MD, 21211, USA   \n",
      "3       101 25TH STREET EAST, Baltimore, MD, 21218, USA   \n",
      "4      1001 25TH STREET EAST, Baltimore, MD, 21218, USA   \n",
      "...                                                 ...   \n",
      "1168  6726 YOUNGSTOWN AVENUE, Baltimore, MD, 21222, USA   \n",
      "1169  201-207 REDWOOD STREET EAST, Baltimore, MD, 21...   \n",
      "1170  2-4 PRESTON STREET EAST, Baltimore, MD, 21202,...   \n",
      "1171    720 ALICEANNA STREET, Baltimore, MD, 21202, USA   \n",
      "1172  1200 NORTH AVENUE WEST, Baltimore, MD, 21217, USA   \n",
      "\n",
      "                                         CleanedAddress  \n",
      "0       12 WEST 20TH STREET , Baltimore, MD, 21218, USA  \n",
      "1      225 WEST 23RD STREET , Baltimore, MD, 21211, USA  \n",
      "2      400 WEST 23RD STREET , Baltimore, MD, 21211, USA  \n",
      "3      101 EAST 25TH STREET , Baltimore, MD, 21218, USA  \n",
      "4     1001 EAST 25TH STREET , Baltimore, MD, 21218, USA  \n",
      "...                                                 ...  \n",
      "1168  6726 YOUNGSTOWN AVENUE, Baltimore, MD, 21222, USA  \n",
      "1169  201 EAST REDWOOD STREET , Baltimore, MD, 21202...  \n",
      "1170  2 EAST PRESTON STREET , Baltimore, MD, 21202, USA  \n",
      "1171    720 ALICEANNA STREET, Baltimore, MD, 21202, USA  \n",
      "1172     1200 NORTH  AVENUE , Baltimore, MD, 21217, USA  \n",
      "\n",
      "[1173 rows x 9 columns]\n"
     ]
    }
   ],
   "source": [
    "# Apply the cleaning function to the FullAddress column\n",
    "df['CleanedAddress'] = df['FullAddress'].apply(clean_address)\n",
    "\n",
    "# Print the cleaned addresses\n",
    "print(df)"
   ]
  },
  {
   "cell_type": "code",
   "execution_count": 8,
   "id": "eaa8d8ea-411f-4003-a1bf-0f9e2c15212e",
   "metadata": {},
   "outputs": [
    {
     "name": "stdout",
     "output_type": "stream",
     "text": [
      "Processed 1/1173 addresses\n",
      "Processed 101/1173 addresses\n",
      "Processed 201/1173 addresses\n",
      "Processed 301/1173 addresses\n",
      "Processed 401/1173 addresses\n",
      "Processed 501/1173 addresses\n",
      "Processed 601/1173 addresses\n",
      "Processed 701/1173 addresses\n",
      "Processed 801/1173 addresses\n",
      "Processed 901/1173 addresses\n",
      "Processed 1001/1173 addresses\n",
      "Processed 1101/1173 addresses\n",
      "       ﻿Block               Street                      Address    Zip  \\\n",
      "0      16-Dec     20TH STREET WEST       12-16 20TH STREET WEST  21218   \n",
      "1      225-27     23RD STREET WEST      225-27 23RD STREET WEST  21211   \n",
      "2         400     23RD STREET WEST         400 23RD STREET WEST  21211   \n",
      "3         101     25TH STREET EAST         101 25TH STREET EAST  21218   \n",
      "4        1001     25TH STREET EAST        1001 25TH STREET EAST  21218   \n",
      "...       ...                  ...                          ...    ...   \n",
      "1168     6726    YOUNGSTOWN AVENUE       6726 YOUNGSTOWN AVENUE  21222   \n",
      "1169  201-207  REDWOOD STREET EAST  201-207 REDWOOD STREET EAST  21202   \n",
      "1170    4-Feb  PRESTON STREET EAST      2-4 PRESTON STREET EAST  21202   \n",
      "1171      720     ALICEANNA STREET         720 ALICEANNA STREET  21202   \n",
      "1172     1200    NORTH AVENUE WEST       1200 NORTH AVENUE WEST  21217   \n",
      "\n",
      "                       Trade Name                     Corp Name License  \\\n",
      "0                      KONG POCHA                SOY BEAN, INC.      LB   \n",
      "1                          CLAVEL                   HARLAN, INC      LB   \n",
      "2                     W.C. HARLAN      400 W. 23RD STREET, INC.      LD   \n",
      "3                  NEW TERRA CAFE           NEW TERRA CAFE, LLC      LB   \n",
      "4                  ORYE'S LIQUORS                BEST RVB, INC.      LA   \n",
      "...                           ...                           ...     ...   \n",
      "1168  SACRED HEART OF MARY CHURCH  MEN'S CLUB OF GRACELAND PARK      WC   \n",
      "1169               KECHY PIZZA CO                  KECHY 2, LLC      LB   \n",
      "1170                  DA' HANGOUT            GOLDEN GRILLZ, LLC      LB   \n",
      "1171        THE RUXTON STEAKHOUSE       STEAKHOUSE VENTURE, LLC      LB   \n",
      "1172          FLEURS d' AVE, INC.                 FLEURS d' AVE    LBD7   \n",
      "\n",
      "                                            FullAddress  \\\n",
      "0     12-16 20TH STREET WEST, Baltimore, MD, 21218, USA   \n",
      "1     225-27 23RD STREET WEST, Baltimore, MD, 21211,...   \n",
      "2       400 23RD STREET WEST, Baltimore, MD, 21211, USA   \n",
      "3       101 25TH STREET EAST, Baltimore, MD, 21218, USA   \n",
      "4      1001 25TH STREET EAST, Baltimore, MD, 21218, USA   \n",
      "...                                                 ...   \n",
      "1168  6726 YOUNGSTOWN AVENUE, Baltimore, MD, 21222, USA   \n",
      "1169  201-207 REDWOOD STREET EAST, Baltimore, MD, 21...   \n",
      "1170  2-4 PRESTON STREET EAST, Baltimore, MD, 21202,...   \n",
      "1171    720 ALICEANNA STREET, Baltimore, MD, 21202, USA   \n",
      "1172  1200 NORTH AVENUE WEST, Baltimore, MD, 21217, USA   \n",
      "\n",
      "                                         CleanedAddress  \n",
      "0       12 WEST 20TH STREET , Baltimore, MD, 21218, USA  \n",
      "1      225 WEST 23RD STREET , Baltimore, MD, 21211, USA  \n",
      "2      400 WEST 23RD STREET , Baltimore, MD, 21211, USA  \n",
      "3      101 EAST 25TH STREET , Baltimore, MD, 21218, USA  \n",
      "4     1001 EAST 25TH STREET , Baltimore, MD, 21218, USA  \n",
      "...                                                 ...  \n",
      "1168  6726 YOUNGSTOWN AVENUE, Baltimore, MD, 21222, USA  \n",
      "1169  201 EAST REDWOOD STREET , Baltimore, MD, 21202...  \n",
      "1170  2 EAST PRESTON STREET , Baltimore, MD, 21202, USA  \n",
      "1171    720 ALICEANNA STREET, Baltimore, MD, 21202, USA  \n",
      "1172     1200 NORTH  AVENUE , Baltimore, MD, 21217, USA  \n",
      "\n",
      "[1173 rows x 9 columns]\n"
     ]
    }
   ],
   "source": [
    "# Example with progress tracking\n",
    "total_addresses = len(df)\n",
    "for i, address in enumerate(df['FullAddress']):\n",
    "    df.at[i, 'CleanedAddress'] = clean_address(address)\n",
    "    if i % 100 == 0:  # Print progress every 100 addresses\n",
    "        print(f\"Processed {i+1}/{total_addresses} addresses\")\n",
    "\n",
    "# Print the cleaned addresses\n",
    "print(df)"
   ]
  },
  {
   "cell_type": "code",
   "execution_count": 9,
   "id": "4d7a940d-e8a8-4fdb-886f-f397a1d014c2",
   "metadata": {},
   "outputs": [
    {
     "name": "stdout",
     "output_type": "stream",
     "text": [
      "                                            FullAddress  \\\n",
      "0     12-16 20TH STREET WEST, Baltimore, MD, 21218, USA   \n",
      "1     225-27 23RD STREET WEST, Baltimore, MD, 21211,...   \n",
      "2       400 23RD STREET WEST, Baltimore, MD, 21211, USA   \n",
      "3       101 25TH STREET EAST, Baltimore, MD, 21218, USA   \n",
      "4      1001 25TH STREET EAST, Baltimore, MD, 21218, USA   \n",
      "...                                                 ...   \n",
      "1168  6726 YOUNGSTOWN AVENUE, Baltimore, MD, 21222, USA   \n",
      "1169  201-207 REDWOOD STREET EAST, Baltimore, MD, 21...   \n",
      "1170  2-4 PRESTON STREET EAST, Baltimore, MD, 21202,...   \n",
      "1171    720 ALICEANNA STREET, Baltimore, MD, 21202, USA   \n",
      "1172  1200 NORTH AVENUE WEST, Baltimore, MD, 21217, USA   \n",
      "\n",
      "                                         CleanedAddress  \n",
      "0       12 WEST 20TH STREET , Baltimore, MD, 21218, USA  \n",
      "1      225 WEST 23RD STREET , Baltimore, MD, 21211, USA  \n",
      "2      400 WEST 23RD STREET , Baltimore, MD, 21211, USA  \n",
      "3      101 EAST 25TH STREET , Baltimore, MD, 21218, USA  \n",
      "4     1001 EAST 25TH STREET , Baltimore, MD, 21218, USA  \n",
      "...                                                 ...  \n",
      "1168  6726 YOUNGSTOWN AVENUE, Baltimore, MD, 21222, USA  \n",
      "1169  201 EAST REDWOOD STREET , Baltimore, MD, 21202...  \n",
      "1170  2 EAST PRESTON STREET , Baltimore, MD, 21202, USA  \n",
      "1171    720 ALICEANNA STREET, Baltimore, MD, 21202, USA  \n",
      "1172     1200 NORTH  AVENUE , Baltimore, MD, 21217, USA  \n",
      "\n",
      "[1173 rows x 2 columns]\n"
     ]
    }
   ],
   "source": [
    "# Apply the cleaning function to the FullAddress column\n",
    "df['CleanedAddress'] = df['FullAddress'].apply(clean_address)\n",
    "\n",
    "# Print the cleaned addresses to verify\n",
    "print(df[['FullAddress', 'CleanedAddress'])"
   ]
  },
  {
   "cell_type": "code",
   "execution_count": 1,
   "id": "e08d1f46-f0dc-4df4-9a10-0cb09a966084",
   "metadata": {},
   "outputs": [
    {
     "ename": "NameError",
     "evalue": "name 'Nominatim' is not defined",
     "output_type": "error",
     "traceback": [
      "\u001b[0;31m---------------------------------------------------------------------------\u001b[0m",
      "\u001b[0;31mNameError\u001b[0m                                 Traceback (most recent call last)",
      "Cell \u001b[0;32mIn[1], line 2\u001b[0m\n\u001b[1;32m      1\u001b[0m \u001b[38;5;66;03m# Initialize Nominatim geocoder with a unique user-agent\u001b[39;00m\n\u001b[0;32m----> 2\u001b[0m geolocator \u001b[38;5;241m=\u001b[39m \u001b[43mNominatim\u001b[49m(user_agent\u001b[38;5;241m=\u001b[39m\u001b[38;5;124m\"\u001b[39m\u001b[38;5;124mbaltimore_alcohol\u001b[39m\u001b[38;5;124m\"\u001b[39m)\n\u001b[1;32m      4\u001b[0m \u001b[38;5;66;03m# List to store geocoded locations\u001b[39;00m\n\u001b[1;32m      5\u001b[0m locations \u001b[38;5;241m=\u001b[39m []\n",
      "\u001b[0;31mNameError\u001b[0m: name 'Nominatim' is not defined"
     ]
    }
   ],
   "source": [
    "# Initialize Nominatim geocoder with a unique user-agent\n",
    "geolocator = Nominatim(user_agent=\"baltimore_alcohol\")\n",
    "\n",
    "# List to store geocoded locations\n",
    "locations = []\n",
    "\n",
    "# Function to handle geocoding with retries\n",
    "def geocode_address(address, retries=3):\n",
    "    try:\n",
    "        location = geolocator.geocode(address, timeout=10)\n",
    "        return location\n",
    "    except (GeocoderTimedOut, GeocoderServiceError) as e:\n",
    "        if retries > 0:\n",
    "            time.sleep(1)  # Wait before retrying\n",
    "            return geocode_address(address, retries - 1)\n",
    "        else:\n",
    "            print(f\"Error geocoding {address}: {e}\")\n",
    "            return None\n",
    "\n",
    "# Process addresses in batches\n",
    "batch_size = 100\n",
    "for i in range(0, len(df), batch_size):\n",
    "    batch = df['CleanedAddress'][i:i + batch_size]\n",
    "    for address in batch:\n",
    "        location = geocode_address(address)\n",
    "        if location:\n",
    "            locations.append((address, location.latitude, location.longitude))\n",
    "    print(f\"Processed batch {i // batch_size + 1}\")\n",
    "    time.sleep(5)  # Delay between batches to respect rate limits\n",
    "\n",
    "# Print geocoded locations\n",
    "for address, lat, lon in locations[:10]:\n",
    "    print(f\"Address: {address}\\nLatitude: {lat}\\nLongitude: {lon}\\n\")"
   ]
  },
  {
   "cell_type": "code",
   "execution_count": null,
   "id": "781bdb96-c14a-4767-9014-467d5ddc6aa4",
   "metadata": {},
   "outputs": [],
   "source": [
    "# Convert locations list to DataFrame\n",
    "df_locations = pd.DataFrame(locations, columns=['CleanedAddress', 'Latitude', 'Longitude'])\n",
    "\n",
    "# Step 3: Merge DataFrames based on FullAddress\n",
    "df_merged = pd.merge(df, df_locations, on='CleanedAddress', how='left')\n",
    "\n",
    "# Step 4: Save the merged DataFrame back to a new CSV file\n",
    "df_merged.to_csv('merged_with_locations.csv', index=False)\n",
    "\n",
    "# Print the merged DataFrame for verification\n",
    "print(df_merged)"
   ]
  },
  {
   "cell_type": "code",
   "execution_count": null,
   "id": "b81412c2-010b-40d4-8da0-274c5f8134e3",
   "metadata": {},
   "outputs": [],
   "source": [
    "# Drop duplicates based on Address and Trade Name\n",
    "df_unique = df_merged.drop_duplicates(subset=['Address', 'Trade Name'])\n",
    "len(df_unique)"
   ]
  },
  {
   "cell_type": "code",
   "execution_count": 18,
   "id": "e5537222-1d19-464c-8bc6-e9d799735fa7",
   "metadata": {},
   "outputs": [
    {
     "name": "stdout",
     "output_type": "stream",
     "text": [
      "Geocoding and update completed. Check 'merged_with_locations.csv' for updated data.\n"
     ]
    }
   ],
   "source": [
    "# Manually cleaned data\n",
    "\n",
    "# Load the CSV into a DataFrame\n",
    "df = pd.read_csv('merged_with_locations.csv')\n",
    "\n",
    "# Filter rows where 'ManualCleaned' is not null\n",
    "df_to_geocode = df[df['ManualCleaned'].notnull()]\n",
    "\n",
    "# Initialize Nominatim geocoder with a unique user-agent\n",
    "geolocator = Nominatim(user_agent=\"baltimore_alcohol\")\n",
    "\n",
    "# Function to handle geocoding with retries\n",
    "def geocode_address(address):\n",
    "    try:\n",
    "        location = geolocator.geocode(address, timeout=10)\n",
    "        return location\n",
    "    except (GeocoderTimedOut, GeocoderServiceError) as e:\n",
    "        print(f\"Error geocoding {address}: {e}\")\n",
    "        return None\n",
    "\n",
    "# Geocode addresses and update 'Latitude' and 'Longitude' columns directly in DataFrame\n",
    "for idx, row in df_to_geocode.iterrows():\n",
    "    if pd.notnull(row['ManualCleaned']):\n",
    "        address = row['ManualCleaned']\n",
    "        location = geocode_address(address)\n",
    "        if location:\n",
    "            df.loc[idx, 'Latitude'] = location.latitude\n",
    "            df.loc[idx, 'Longitude'] = location.longitude\n",
    "\n",
    "# Save the updated DataFrame back to CSV\n",
    "df.to_csv('merged_with_locations.csv', index=False)\n",
    "\n",
    "print(\"Geocoding and update completed. Check 'merged_with_locations.csv' for updated data.\")"
   ]
  },
  {
   "cell_type": "code",
   "execution_count": 22,
   "id": "95b6a95c-5f3c-4086-bb1f-e6433b1bd4f3",
   "metadata": {},
   "outputs": [
    {
     "data": {
      "text/plain": [
       "1172"
      ]
     },
     "execution_count": 22,
     "metadata": {},
     "output_type": "execute_result"
    }
   ],
   "source": [
    "# Drop duplicates based on Address and Trade Name\n",
    "df_unique = df.drop_duplicates(subset=['Address', 'Trade Name'])\n",
    "len(df_unique)"
   ]
  },
  {
   "cell_type": "code",
   "execution_count": 23,
   "id": "c7ee9e2e-6e30-4469-8352-be1762c7e3fc",
   "metadata": {},
   "outputs": [
    {
     "data": {
      "text/plain": [
       "1233"
      ]
     },
     "execution_count": 23,
     "metadata": {},
     "output_type": "execute_result"
    }
   ],
   "source": [
    "len(df)"
   ]
  },
  {
   "cell_type": "code",
   "execution_count": 32,
   "id": "248f697c-47fe-4506-9bec-c11f163655bf",
   "metadata": {},
   "outputs": [],
   "source": [
    "# # Remove unwanted columns: 'Block', 'Street', 'Address', 'Zip'\n",
    "# columns_to_drop = ['Block', 'Street', 'Address', 'Zip']\n",
    "# df_unique.drop(columns_to_drop, axis=1, inplace=True)\n",
    "\n",
    "# Save the DataFrame to a new CSV file\n",
    "df_unique.to_csv('geocoded_unique.csv', index=False)"
   ]
  },
  {
   "cell_type": "code",
   "execution_count": 29,
   "id": "8bccaddc-c83a-4a6d-b1e5-f5103407172e",
   "metadata": {},
   "outputs": [
    {
     "data": {
      "text/plain": [
       "1172"
      ]
     },
     "execution_count": 29,
     "metadata": {},
     "output_type": "execute_result"
    }
   ],
   "source": [
    "len(df_unique)"
   ]
  },
  {
   "cell_type": "code",
   "execution_count": 30,
   "id": "62dfdf7f-2ee4-43db-9de1-67ed6817d610",
   "metadata": {},
   "outputs": [
    {
     "data": {
      "text/plain": [
       "Index(['Trade Name', 'Corp Name', 'License', 'FullAddress', 'CleanedAddress',\n",
       "       'ManualCleaned', 'Latitude', 'Longitude'],\n",
       "      dtype='object')"
      ]
     },
     "execution_count": 30,
     "metadata": {},
     "output_type": "execute_result"
    }
   ],
   "source": [
    "df_unique.columns"
   ]
  },
  {
   "cell_type": "code",
   "execution_count": null,
   "id": "01bfee0c-00f8-4b88-a5bb-610703a843ef",
   "metadata": {},
   "outputs": [],
   "source": []
  }
 ],
 "metadata": {
  "kernelspec": {
   "display_name": "Python 3 (ipykernel)",
   "language": "python",
   "name": "python3"
  },
  "language_info": {
   "codemirror_mode": {
    "name": "ipython",
    "version": 3
   },
   "file_extension": ".py",
   "mimetype": "text/x-python",
   "name": "python",
   "nbconvert_exporter": "python",
   "pygments_lexer": "ipython3",
   "version": "3.11.8"
  }
 },
 "nbformat": 4,
 "nbformat_minor": 5
}
